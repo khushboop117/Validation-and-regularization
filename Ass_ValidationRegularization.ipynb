{
 "cells": [
  {
   "cell_type": "markdown",
   "metadata": {},
   "source": [
    "# ML Assignment 5\n",
    "# Khushboo Patel, Aditi Gala, Jenny Khanh"
   ]
  },
  {
   "cell_type": "markdown",
   "metadata": {},
   "source": [
    "## Question 1"
   ]
  },
  {
   "cell_type": "code",
   "execution_count": 1,
   "metadata": {},
   "outputs": [],
   "source": [
    "import pandas as pd\n",
    "import numpy as np\n",
    "train1 = pd.read_csv(\"healthcareTrain.csv\")\n",
    "test1 = pd.read_csv(\"healthcareTest.csv\")\n",
    "\n",
    "x = train1[[\"total_los\",\"num_op\",\"num_er\",\"num_ndc\",\"pre_total_cost\", \"pre_CCI\",\"pdc_80_flag\"]]\n",
    "y = test1[[\"total_los\",\"num_op\",\"num_er\",\"num_ndc\",\"pre_total_cost\", \"pre_CCI\",\"pdc_80_flag\"]]\n",
    "x1 = train1[[\"total_los\",\"num_op\",\"num_er\",\"num_ndc\",\"pre_total_cost\", \"pre_CCI\"]]\n",
    "x2 = train1[\"pdc_80_flag\"]\n",
    "y1 = test1[[\"total_los\",\"num_op\",\"num_er\",\"num_ndc\",\"pre_total_cost\", \"pre_CCI\"]]\n",
    "y2 = test1[\"pdc_80_flag\"]\n",
    "x = (x - x.min()) / (x.max() - x.min())\n",
    "y = (y - y.min()) / (y.max() - y.min())"
   ]
  },
  {
   "cell_type": "code",
   "execution_count": 267,
   "metadata": {},
   "outputs": [],
   "source": [
    "from sklearn.neighbors import KNeighborsClassifier\n",
    "k = 10\n",
    "folds = np.array_split(x, k)\n",
    "for i in range(10):\n",
    "    train = folds.copy() \n",
    "    test = folds[i]\n",
    "    del train[i]\n",
    "    train = pd.concat(train, sort=False)"
   ]
  },
  {
   "cell_type": "code",
   "execution_count": 2,
   "metadata": {},
   "outputs": [],
   "source": [
    "my_df = pd.DataFrame()\n",
    "from sklearn.neighbors import KNeighborsClassifier\n",
    "from sklearn import metrics\n",
    "k = 10\n",
    "folds = np.array_split(x, k)\n",
    "for i in range(10):\n",
    "    train = folds.copy() \n",
    "    test = folds[i]\n",
    "    del train[i]\n",
    "    train = pd.concat(train, sort=False)\n",
    "    traininp = train[[\"total_los\",\"num_op\",\"num_er\",\"num_ndc\",\"pre_total_cost\", \"pre_CCI\"]]\n",
    "    testinp = test[[\"total_los\",\"num_op\",\"num_er\",\"num_ndc\",\"pre_total_cost\", \"pre_CCI\"]]\n",
    "    trainout = train[\"pdc_80_flag\"]\n",
    "    testout = test[\"pdc_80_flag\"]\n",
    "    \n",
    "    \n",
    "    score = []\n",
    "    p=[]\n",
    "    for k in range(31,102,2):\n",
    "        model = KNeighborsClassifier(n_neighbors=k)\n",
    "        model.fit(traininp, trainout)\n",
    "        y_pred = model.predict(testinp)\n",
    "        score.append(metrics.accuracy_score(testout,y_pred))\n",
    "        p.append(k)\n",
    "    #pd.DataFrame(score)\n",
    "    \n",
    "    col_name = str(i)\n",
    "    my_df[col_name]=score\n",
    "    \n",
    "\n"
   ]
  },
  {
   "cell_type": "code",
   "execution_count": 3,
   "metadata": {},
   "outputs": [
    {
     "data": {
      "text/html": [
       "<div>\n",
       "<style scoped>\n",
       "    .dataframe tbody tr th:only-of-type {\n",
       "        vertical-align: middle;\n",
       "    }\n",
       "\n",
       "    .dataframe tbody tr th {\n",
       "        vertical-align: top;\n",
       "    }\n",
       "\n",
       "    .dataframe thead th {\n",
       "        text-align: right;\n",
       "    }\n",
       "</style>\n",
       "<table border=\"1\" class=\"dataframe\">\n",
       "  <thead>\n",
       "    <tr style=\"text-align: right;\">\n",
       "      <th></th>\n",
       "      <th>0</th>\n",
       "      <th>1</th>\n",
       "      <th>2</th>\n",
       "      <th>3</th>\n",
       "      <th>4</th>\n",
       "      <th>5</th>\n",
       "      <th>6</th>\n",
       "      <th>7</th>\n",
       "      <th>8</th>\n",
       "      <th>9</th>\n",
       "      <th>average</th>\n",
       "    </tr>\n",
       "  </thead>\n",
       "  <tbody>\n",
       "    <tr>\n",
       "      <td>0</td>\n",
       "      <td>0.579710</td>\n",
       "      <td>0.572464</td>\n",
       "      <td>0.615942</td>\n",
       "      <td>0.666667</td>\n",
       "      <td>0.601449</td>\n",
       "      <td>0.601449</td>\n",
       "      <td>0.557971</td>\n",
       "      <td>0.630435</td>\n",
       "      <td>0.656934</td>\n",
       "      <td>0.540146</td>\n",
       "      <td>0.602317</td>\n",
       "    </tr>\n",
       "    <tr>\n",
       "      <td>1</td>\n",
       "      <td>0.572464</td>\n",
       "      <td>0.572464</td>\n",
       "      <td>0.623188</td>\n",
       "      <td>0.637681</td>\n",
       "      <td>0.601449</td>\n",
       "      <td>0.565217</td>\n",
       "      <td>0.565217</td>\n",
       "      <td>0.644928</td>\n",
       "      <td>0.678832</td>\n",
       "      <td>0.554745</td>\n",
       "      <td>0.601619</td>\n",
       "    </tr>\n",
       "    <tr>\n",
       "      <td>2</td>\n",
       "      <td>0.608696</td>\n",
       "      <td>0.579710</td>\n",
       "      <td>0.630435</td>\n",
       "      <td>0.652174</td>\n",
       "      <td>0.572464</td>\n",
       "      <td>0.565217</td>\n",
       "      <td>0.550725</td>\n",
       "      <td>0.579710</td>\n",
       "      <td>0.686131</td>\n",
       "      <td>0.562044</td>\n",
       "      <td>0.598731</td>\n",
       "    </tr>\n",
       "    <tr>\n",
       "      <td>3</td>\n",
       "      <td>0.608696</td>\n",
       "      <td>0.579710</td>\n",
       "      <td>0.615942</td>\n",
       "      <td>0.608696</td>\n",
       "      <td>0.579710</td>\n",
       "      <td>0.550725</td>\n",
       "      <td>0.565217</td>\n",
       "      <td>0.594203</td>\n",
       "      <td>0.671533</td>\n",
       "      <td>0.554745</td>\n",
       "      <td>0.592918</td>\n",
       "    </tr>\n",
       "    <tr>\n",
       "      <td>4</td>\n",
       "      <td>0.615942</td>\n",
       "      <td>0.550725</td>\n",
       "      <td>0.623188</td>\n",
       "      <td>0.630435</td>\n",
       "      <td>0.579710</td>\n",
       "      <td>0.557971</td>\n",
       "      <td>0.586957</td>\n",
       "      <td>0.630435</td>\n",
       "      <td>0.649635</td>\n",
       "      <td>0.547445</td>\n",
       "      <td>0.597244</td>\n",
       "    </tr>\n",
       "    <tr>\n",
       "      <td>5</td>\n",
       "      <td>0.601449</td>\n",
       "      <td>0.557971</td>\n",
       "      <td>0.615942</td>\n",
       "      <td>0.608696</td>\n",
       "      <td>0.594203</td>\n",
       "      <td>0.550725</td>\n",
       "      <td>0.565217</td>\n",
       "      <td>0.630435</td>\n",
       "      <td>0.693431</td>\n",
       "      <td>0.540146</td>\n",
       "      <td>0.595821</td>\n",
       "    </tr>\n",
       "    <tr>\n",
       "      <td>6</td>\n",
       "      <td>0.572464</td>\n",
       "      <td>0.565217</td>\n",
       "      <td>0.623188</td>\n",
       "      <td>0.594203</td>\n",
       "      <td>0.623188</td>\n",
       "      <td>0.536232</td>\n",
       "      <td>0.579710</td>\n",
       "      <td>0.652174</td>\n",
       "      <td>0.678832</td>\n",
       "      <td>0.525547</td>\n",
       "      <td>0.595076</td>\n",
       "    </tr>\n",
       "    <tr>\n",
       "      <td>7</td>\n",
       "      <td>0.565217</td>\n",
       "      <td>0.557971</td>\n",
       "      <td>0.630435</td>\n",
       "      <td>0.594203</td>\n",
       "      <td>0.630435</td>\n",
       "      <td>0.550725</td>\n",
       "      <td>0.572464</td>\n",
       "      <td>0.652174</td>\n",
       "      <td>0.678832</td>\n",
       "      <td>0.532847</td>\n",
       "      <td>0.596530</td>\n",
       "    </tr>\n",
       "    <tr>\n",
       "      <td>8</td>\n",
       "      <td>0.565217</td>\n",
       "      <td>0.565217</td>\n",
       "      <td>0.594203</td>\n",
       "      <td>0.565217</td>\n",
       "      <td>0.601449</td>\n",
       "      <td>0.550725</td>\n",
       "      <td>0.579710</td>\n",
       "      <td>0.644928</td>\n",
       "      <td>0.678832</td>\n",
       "      <td>0.532847</td>\n",
       "      <td>0.587835</td>\n",
       "    </tr>\n",
       "    <tr>\n",
       "      <td>9</td>\n",
       "      <td>0.572464</td>\n",
       "      <td>0.550725</td>\n",
       "      <td>0.594203</td>\n",
       "      <td>0.550725</td>\n",
       "      <td>0.594203</td>\n",
       "      <td>0.528986</td>\n",
       "      <td>0.579710</td>\n",
       "      <td>0.652174</td>\n",
       "      <td>0.686131</td>\n",
       "      <td>0.569343</td>\n",
       "      <td>0.587866</td>\n",
       "    </tr>\n",
       "    <tr>\n",
       "      <td>10</td>\n",
       "      <td>0.572464</td>\n",
       "      <td>0.565217</td>\n",
       "      <td>0.601449</td>\n",
       "      <td>0.601449</td>\n",
       "      <td>0.608696</td>\n",
       "      <td>0.528986</td>\n",
       "      <td>0.565217</td>\n",
       "      <td>0.644928</td>\n",
       "      <td>0.693431</td>\n",
       "      <td>0.547445</td>\n",
       "      <td>0.592928</td>\n",
       "    </tr>\n",
       "    <tr>\n",
       "      <td>11</td>\n",
       "      <td>0.579710</td>\n",
       "      <td>0.579710</td>\n",
       "      <td>0.608696</td>\n",
       "      <td>0.579710</td>\n",
       "      <td>0.615942</td>\n",
       "      <td>0.521739</td>\n",
       "      <td>0.557971</td>\n",
       "      <td>0.652174</td>\n",
       "      <td>0.686131</td>\n",
       "      <td>0.525547</td>\n",
       "      <td>0.590733</td>\n",
       "    </tr>\n",
       "    <tr>\n",
       "      <td>12</td>\n",
       "      <td>0.557971</td>\n",
       "      <td>0.586957</td>\n",
       "      <td>0.608696</td>\n",
       "      <td>0.601449</td>\n",
       "      <td>0.608696</td>\n",
       "      <td>0.536232</td>\n",
       "      <td>0.572464</td>\n",
       "      <td>0.644928</td>\n",
       "      <td>0.671533</td>\n",
       "      <td>0.547445</td>\n",
       "      <td>0.593637</td>\n",
       "    </tr>\n",
       "    <tr>\n",
       "      <td>13</td>\n",
       "      <td>0.557971</td>\n",
       "      <td>0.579710</td>\n",
       "      <td>0.623188</td>\n",
       "      <td>0.572464</td>\n",
       "      <td>0.594203</td>\n",
       "      <td>0.543478</td>\n",
       "      <td>0.572464</td>\n",
       "      <td>0.630435</td>\n",
       "      <td>0.649635</td>\n",
       "      <td>0.540146</td>\n",
       "      <td>0.586369</td>\n",
       "    </tr>\n",
       "    <tr>\n",
       "      <td>14</td>\n",
       "      <td>0.557971</td>\n",
       "      <td>0.565217</td>\n",
       "      <td>0.623188</td>\n",
       "      <td>0.565217</td>\n",
       "      <td>0.594203</td>\n",
       "      <td>0.528986</td>\n",
       "      <td>0.565217</td>\n",
       "      <td>0.659420</td>\n",
       "      <td>0.678832</td>\n",
       "      <td>0.547445</td>\n",
       "      <td>0.588570</td>\n",
       "    </tr>\n",
       "    <tr>\n",
       "      <td>15</td>\n",
       "      <td>0.543478</td>\n",
       "      <td>0.557971</td>\n",
       "      <td>0.615942</td>\n",
       "      <td>0.572464</td>\n",
       "      <td>0.601449</td>\n",
       "      <td>0.528986</td>\n",
       "      <td>0.572464</td>\n",
       "      <td>0.637681</td>\n",
       "      <td>0.664234</td>\n",
       "      <td>0.562044</td>\n",
       "      <td>0.585671</td>\n",
       "    </tr>\n",
       "    <tr>\n",
       "      <td>16</td>\n",
       "      <td>0.572464</td>\n",
       "      <td>0.572464</td>\n",
       "      <td>0.608696</td>\n",
       "      <td>0.557971</td>\n",
       "      <td>0.601449</td>\n",
       "      <td>0.557971</td>\n",
       "      <td>0.579710</td>\n",
       "      <td>0.630435</td>\n",
       "      <td>0.642336</td>\n",
       "      <td>0.554745</td>\n",
       "      <td>0.587824</td>\n",
       "    </tr>\n",
       "    <tr>\n",
       "      <td>17</td>\n",
       "      <td>0.579710</td>\n",
       "      <td>0.579710</td>\n",
       "      <td>0.615942</td>\n",
       "      <td>0.557971</td>\n",
       "      <td>0.586957</td>\n",
       "      <td>0.557971</td>\n",
       "      <td>0.579710</td>\n",
       "      <td>0.644928</td>\n",
       "      <td>0.656934</td>\n",
       "      <td>0.569343</td>\n",
       "      <td>0.592918</td>\n",
       "    </tr>\n",
       "    <tr>\n",
       "      <td>18</td>\n",
       "      <td>0.579710</td>\n",
       "      <td>0.615942</td>\n",
       "      <td>0.601449</td>\n",
       "      <td>0.557971</td>\n",
       "      <td>0.594203</td>\n",
       "      <td>0.557971</td>\n",
       "      <td>0.579710</td>\n",
       "      <td>0.659420</td>\n",
       "      <td>0.649635</td>\n",
       "      <td>0.562044</td>\n",
       "      <td>0.595806</td>\n",
       "    </tr>\n",
       "    <tr>\n",
       "      <td>19</td>\n",
       "      <td>0.572464</td>\n",
       "      <td>0.586957</td>\n",
       "      <td>0.594203</td>\n",
       "      <td>0.557971</td>\n",
       "      <td>0.594203</td>\n",
       "      <td>0.557971</td>\n",
       "      <td>0.586957</td>\n",
       "      <td>0.644928</td>\n",
       "      <td>0.649635</td>\n",
       "      <td>0.583942</td>\n",
       "      <td>0.592923</td>\n",
       "    </tr>\n",
       "    <tr>\n",
       "      <td>20</td>\n",
       "      <td>0.579710</td>\n",
       "      <td>0.594203</td>\n",
       "      <td>0.579710</td>\n",
       "      <td>0.557971</td>\n",
       "      <td>0.594203</td>\n",
       "      <td>0.565217</td>\n",
       "      <td>0.608696</td>\n",
       "      <td>0.637681</td>\n",
       "      <td>0.649635</td>\n",
       "      <td>0.576642</td>\n",
       "      <td>0.594367</td>\n",
       "    </tr>\n",
       "    <tr>\n",
       "      <td>21</td>\n",
       "      <td>0.543478</td>\n",
       "      <td>0.572464</td>\n",
       "      <td>0.615942</td>\n",
       "      <td>0.557971</td>\n",
       "      <td>0.579710</td>\n",
       "      <td>0.572464</td>\n",
       "      <td>0.594203</td>\n",
       "      <td>0.652174</td>\n",
       "      <td>0.671533</td>\n",
       "      <td>0.583942</td>\n",
       "      <td>0.594388</td>\n",
       "    </tr>\n",
       "    <tr>\n",
       "      <td>22</td>\n",
       "      <td>0.557971</td>\n",
       "      <td>0.572464</td>\n",
       "      <td>0.615942</td>\n",
       "      <td>0.579710</td>\n",
       "      <td>0.586957</td>\n",
       "      <td>0.557971</td>\n",
       "      <td>0.594203</td>\n",
       "      <td>0.659420</td>\n",
       "      <td>0.635036</td>\n",
       "      <td>0.576642</td>\n",
       "      <td>0.593632</td>\n",
       "    </tr>\n",
       "    <tr>\n",
       "      <td>23</td>\n",
       "      <td>0.550725</td>\n",
       "      <td>0.579710</td>\n",
       "      <td>0.623188</td>\n",
       "      <td>0.572464</td>\n",
       "      <td>0.586957</td>\n",
       "      <td>0.550725</td>\n",
       "      <td>0.601449</td>\n",
       "      <td>0.652174</td>\n",
       "      <td>0.649635</td>\n",
       "      <td>0.569343</td>\n",
       "      <td>0.593637</td>\n",
       "    </tr>\n",
       "    <tr>\n",
       "      <td>24</td>\n",
       "      <td>0.550725</td>\n",
       "      <td>0.586957</td>\n",
       "      <td>0.608696</td>\n",
       "      <td>0.550725</td>\n",
       "      <td>0.594203</td>\n",
       "      <td>0.543478</td>\n",
       "      <td>0.594203</td>\n",
       "      <td>0.644928</td>\n",
       "      <td>0.649635</td>\n",
       "      <td>0.598540</td>\n",
       "      <td>0.592209</td>\n",
       "    </tr>\n",
       "    <tr>\n",
       "      <td>25</td>\n",
       "      <td>0.572464</td>\n",
       "      <td>0.586957</td>\n",
       "      <td>0.608696</td>\n",
       "      <td>0.550725</td>\n",
       "      <td>0.586957</td>\n",
       "      <td>0.557971</td>\n",
       "      <td>0.601449</td>\n",
       "      <td>0.652174</td>\n",
       "      <td>0.649635</td>\n",
       "      <td>0.598540</td>\n",
       "      <td>0.596557</td>\n",
       "    </tr>\n",
       "    <tr>\n",
       "      <td>26</td>\n",
       "      <td>0.550725</td>\n",
       "      <td>0.594203</td>\n",
       "      <td>0.623188</td>\n",
       "      <td>0.543478</td>\n",
       "      <td>0.586957</td>\n",
       "      <td>0.557971</td>\n",
       "      <td>0.579710</td>\n",
       "      <td>0.637681</td>\n",
       "      <td>0.656934</td>\n",
       "      <td>0.576642</td>\n",
       "      <td>0.590749</td>\n",
       "    </tr>\n",
       "    <tr>\n",
       "      <td>27</td>\n",
       "      <td>0.565217</td>\n",
       "      <td>0.594203</td>\n",
       "      <td>0.623188</td>\n",
       "      <td>0.543478</td>\n",
       "      <td>0.565217</td>\n",
       "      <td>0.536232</td>\n",
       "      <td>0.557971</td>\n",
       "      <td>0.637681</td>\n",
       "      <td>0.664234</td>\n",
       "      <td>0.576642</td>\n",
       "      <td>0.586406</td>\n",
       "    </tr>\n",
       "    <tr>\n",
       "      <td>28</td>\n",
       "      <td>0.550725</td>\n",
       "      <td>0.608696</td>\n",
       "      <td>0.630435</td>\n",
       "      <td>0.550725</td>\n",
       "      <td>0.557971</td>\n",
       "      <td>0.521739</td>\n",
       "      <td>0.557971</td>\n",
       "      <td>0.637681</td>\n",
       "      <td>0.678832</td>\n",
       "      <td>0.583942</td>\n",
       "      <td>0.587872</td>\n",
       "    </tr>\n",
       "    <tr>\n",
       "      <td>29</td>\n",
       "      <td>0.565217</td>\n",
       "      <td>0.601449</td>\n",
       "      <td>0.608696</td>\n",
       "      <td>0.536232</td>\n",
       "      <td>0.572464</td>\n",
       "      <td>0.543478</td>\n",
       "      <td>0.557971</td>\n",
       "      <td>0.637681</td>\n",
       "      <td>0.649635</td>\n",
       "      <td>0.591241</td>\n",
       "      <td>0.586406</td>\n",
       "    </tr>\n",
       "    <tr>\n",
       "      <td>30</td>\n",
       "      <td>0.557971</td>\n",
       "      <td>0.601449</td>\n",
       "      <td>0.615942</td>\n",
       "      <td>0.528986</td>\n",
       "      <td>0.572464</td>\n",
       "      <td>0.550725</td>\n",
       "      <td>0.586957</td>\n",
       "      <td>0.652174</td>\n",
       "      <td>0.656934</td>\n",
       "      <td>0.583942</td>\n",
       "      <td>0.590754</td>\n",
       "    </tr>\n",
       "    <tr>\n",
       "      <td>31</td>\n",
       "      <td>0.565217</td>\n",
       "      <td>0.601449</td>\n",
       "      <td>0.608696</td>\n",
       "      <td>0.528986</td>\n",
       "      <td>0.586957</td>\n",
       "      <td>0.550725</td>\n",
       "      <td>0.579710</td>\n",
       "      <td>0.644928</td>\n",
       "      <td>0.664234</td>\n",
       "      <td>0.562044</td>\n",
       "      <td>0.589294</td>\n",
       "    </tr>\n",
       "    <tr>\n",
       "      <td>32</td>\n",
       "      <td>0.586957</td>\n",
       "      <td>0.601449</td>\n",
       "      <td>0.615942</td>\n",
       "      <td>0.528986</td>\n",
       "      <td>0.586957</td>\n",
       "      <td>0.550725</td>\n",
       "      <td>0.586957</td>\n",
       "      <td>0.652174</td>\n",
       "      <td>0.664234</td>\n",
       "      <td>0.583942</td>\n",
       "      <td>0.595832</td>\n",
       "    </tr>\n",
       "    <tr>\n",
       "      <td>33</td>\n",
       "      <td>0.572464</td>\n",
       "      <td>0.601449</td>\n",
       "      <td>0.608696</td>\n",
       "      <td>0.528986</td>\n",
       "      <td>0.579710</td>\n",
       "      <td>0.543478</td>\n",
       "      <td>0.579710</td>\n",
       "      <td>0.666667</td>\n",
       "      <td>0.656934</td>\n",
       "      <td>0.576642</td>\n",
       "      <td>0.591474</td>\n",
       "    </tr>\n",
       "    <tr>\n",
       "      <td>34</td>\n",
       "      <td>0.572464</td>\n",
       "      <td>0.586957</td>\n",
       "      <td>0.623188</td>\n",
       "      <td>0.528986</td>\n",
       "      <td>0.572464</td>\n",
       "      <td>0.543478</td>\n",
       "      <td>0.565217</td>\n",
       "      <td>0.666667</td>\n",
       "      <td>0.649635</td>\n",
       "      <td>0.554745</td>\n",
       "      <td>0.586380</td>\n",
       "    </tr>\n",
       "    <tr>\n",
       "      <td>35</td>\n",
       "      <td>0.586957</td>\n",
       "      <td>0.594203</td>\n",
       "      <td>0.615942</td>\n",
       "      <td>0.543478</td>\n",
       "      <td>0.565217</td>\n",
       "      <td>0.543478</td>\n",
       "      <td>0.572464</td>\n",
       "      <td>0.659420</td>\n",
       "      <td>0.649635</td>\n",
       "      <td>0.569343</td>\n",
       "      <td>0.590014</td>\n",
       "    </tr>\n",
       "  </tbody>\n",
       "</table>\n",
       "</div>"
      ],
      "text/plain": [
       "           0         1         2         3         4         5         6  \\\n",
       "0   0.579710  0.572464  0.615942  0.666667  0.601449  0.601449  0.557971   \n",
       "1   0.572464  0.572464  0.623188  0.637681  0.601449  0.565217  0.565217   \n",
       "2   0.608696  0.579710  0.630435  0.652174  0.572464  0.565217  0.550725   \n",
       "3   0.608696  0.579710  0.615942  0.608696  0.579710  0.550725  0.565217   \n",
       "4   0.615942  0.550725  0.623188  0.630435  0.579710  0.557971  0.586957   \n",
       "5   0.601449  0.557971  0.615942  0.608696  0.594203  0.550725  0.565217   \n",
       "6   0.572464  0.565217  0.623188  0.594203  0.623188  0.536232  0.579710   \n",
       "7   0.565217  0.557971  0.630435  0.594203  0.630435  0.550725  0.572464   \n",
       "8   0.565217  0.565217  0.594203  0.565217  0.601449  0.550725  0.579710   \n",
       "9   0.572464  0.550725  0.594203  0.550725  0.594203  0.528986  0.579710   \n",
       "10  0.572464  0.565217  0.601449  0.601449  0.608696  0.528986  0.565217   \n",
       "11  0.579710  0.579710  0.608696  0.579710  0.615942  0.521739  0.557971   \n",
       "12  0.557971  0.586957  0.608696  0.601449  0.608696  0.536232  0.572464   \n",
       "13  0.557971  0.579710  0.623188  0.572464  0.594203  0.543478  0.572464   \n",
       "14  0.557971  0.565217  0.623188  0.565217  0.594203  0.528986  0.565217   \n",
       "15  0.543478  0.557971  0.615942  0.572464  0.601449  0.528986  0.572464   \n",
       "16  0.572464  0.572464  0.608696  0.557971  0.601449  0.557971  0.579710   \n",
       "17  0.579710  0.579710  0.615942  0.557971  0.586957  0.557971  0.579710   \n",
       "18  0.579710  0.615942  0.601449  0.557971  0.594203  0.557971  0.579710   \n",
       "19  0.572464  0.586957  0.594203  0.557971  0.594203  0.557971  0.586957   \n",
       "20  0.579710  0.594203  0.579710  0.557971  0.594203  0.565217  0.608696   \n",
       "21  0.543478  0.572464  0.615942  0.557971  0.579710  0.572464  0.594203   \n",
       "22  0.557971  0.572464  0.615942  0.579710  0.586957  0.557971  0.594203   \n",
       "23  0.550725  0.579710  0.623188  0.572464  0.586957  0.550725  0.601449   \n",
       "24  0.550725  0.586957  0.608696  0.550725  0.594203  0.543478  0.594203   \n",
       "25  0.572464  0.586957  0.608696  0.550725  0.586957  0.557971  0.601449   \n",
       "26  0.550725  0.594203  0.623188  0.543478  0.586957  0.557971  0.579710   \n",
       "27  0.565217  0.594203  0.623188  0.543478  0.565217  0.536232  0.557971   \n",
       "28  0.550725  0.608696  0.630435  0.550725  0.557971  0.521739  0.557971   \n",
       "29  0.565217  0.601449  0.608696  0.536232  0.572464  0.543478  0.557971   \n",
       "30  0.557971  0.601449  0.615942  0.528986  0.572464  0.550725  0.586957   \n",
       "31  0.565217  0.601449  0.608696  0.528986  0.586957  0.550725  0.579710   \n",
       "32  0.586957  0.601449  0.615942  0.528986  0.586957  0.550725  0.586957   \n",
       "33  0.572464  0.601449  0.608696  0.528986  0.579710  0.543478  0.579710   \n",
       "34  0.572464  0.586957  0.623188  0.528986  0.572464  0.543478  0.565217   \n",
       "35  0.586957  0.594203  0.615942  0.543478  0.565217  0.543478  0.572464   \n",
       "\n",
       "           7         8         9   average  \n",
       "0   0.630435  0.656934  0.540146  0.602317  \n",
       "1   0.644928  0.678832  0.554745  0.601619  \n",
       "2   0.579710  0.686131  0.562044  0.598731  \n",
       "3   0.594203  0.671533  0.554745  0.592918  \n",
       "4   0.630435  0.649635  0.547445  0.597244  \n",
       "5   0.630435  0.693431  0.540146  0.595821  \n",
       "6   0.652174  0.678832  0.525547  0.595076  \n",
       "7   0.652174  0.678832  0.532847  0.596530  \n",
       "8   0.644928  0.678832  0.532847  0.587835  \n",
       "9   0.652174  0.686131  0.569343  0.587866  \n",
       "10  0.644928  0.693431  0.547445  0.592928  \n",
       "11  0.652174  0.686131  0.525547  0.590733  \n",
       "12  0.644928  0.671533  0.547445  0.593637  \n",
       "13  0.630435  0.649635  0.540146  0.586369  \n",
       "14  0.659420  0.678832  0.547445  0.588570  \n",
       "15  0.637681  0.664234  0.562044  0.585671  \n",
       "16  0.630435  0.642336  0.554745  0.587824  \n",
       "17  0.644928  0.656934  0.569343  0.592918  \n",
       "18  0.659420  0.649635  0.562044  0.595806  \n",
       "19  0.644928  0.649635  0.583942  0.592923  \n",
       "20  0.637681  0.649635  0.576642  0.594367  \n",
       "21  0.652174  0.671533  0.583942  0.594388  \n",
       "22  0.659420  0.635036  0.576642  0.593632  \n",
       "23  0.652174  0.649635  0.569343  0.593637  \n",
       "24  0.644928  0.649635  0.598540  0.592209  \n",
       "25  0.652174  0.649635  0.598540  0.596557  \n",
       "26  0.637681  0.656934  0.576642  0.590749  \n",
       "27  0.637681  0.664234  0.576642  0.586406  \n",
       "28  0.637681  0.678832  0.583942  0.587872  \n",
       "29  0.637681  0.649635  0.591241  0.586406  \n",
       "30  0.652174  0.656934  0.583942  0.590754  \n",
       "31  0.644928  0.664234  0.562044  0.589294  \n",
       "32  0.652174  0.664234  0.583942  0.595832  \n",
       "33  0.666667  0.656934  0.576642  0.591474  \n",
       "34  0.666667  0.649635  0.554745  0.586380  \n",
       "35  0.659420  0.649635  0.569343  0.590014  "
      ]
     },
     "execution_count": 3,
     "metadata": {},
     "output_type": "execute_result"
    }
   ],
   "source": [
    "my_df[\"average\"]=my_df.mean(axis=1)\n",
    "my_df\n"
   ]
  },
  {
   "cell_type": "code",
   "execution_count": 270,
   "metadata": {},
   "outputs": [
    {
     "data": {
      "text/plain": [
       "0.6023167248492541"
      ]
     },
     "execution_count": 270,
     "metadata": {},
     "output_type": "execute_result"
    }
   ],
   "source": [
    "df = pd.DataFrame()\n",
    "df[\"Accuracy\"]= my_df.average\n",
    "df[\"k value\"]=p\n",
    "max1= df[\"Accuracy\"].max()\n",
    "max1"
   ]
  },
  {
   "cell_type": "markdown",
   "metadata": {},
   "source": [
    "## b) Plot the accuracy rate from your 10-fold cross validation vs. K."
   ]
  },
  {
   "cell_type": "code",
   "execution_count": 271,
   "metadata": {},
   "outputs": [
    {
     "data": {
      "image/png": "[encoded data removed]",
      "text/plain": [
       "<Figure size 432x288 with 1 Axes>"
      ]
     },
     "metadata": {
      "needs_background": "light"
     },
     "output_type": "display_data"
    }
   ],
   "source": [
    "df.plot(kind='line',x='k value',y='Accuracy',color='blue')\n",
    "plt.show()"
   ]
  },
  {
   "cell_type": "markdown",
   "metadata": {},
   "source": [
    "The best accuracy is 60.23% which is for k = 31."
   ]
  },
  {
   "cell_type": "markdown",
   "metadata": {},
   "source": [
    "## c) Use the best value of K to predict the pdc-80-flag for the test set. How does your validation error compare to test error?"
   ]
  },
  {
   "cell_type": "code",
   "execution_count": 272,
   "metadata": {},
   "outputs": [
    {
     "name": "stdout",
     "output_type": "stream",
     "text": [
      "Accuracy: 0.5959302325581395\n"
     ]
    }
   ],
   "source": [
    "knn = KNeighborsClassifier(n_neighbors=31)\n",
    "\n",
    "#Train the model using the training sets\n",
    "knn.fit(x1, x2)\n",
    "\n",
    "#Predict the response for test dataset\n",
    "y_pred = knn.predict(y1)\n",
    "print(\"Accuracy:\",metrics.accuracy_score(y2, y_pred))"
   ]
  },
  {
   "cell_type": "markdown",
   "metadata": {},
   "source": [
    "From the above comparison we can see that when we used k fold cross validation the accuracy was 60.23% but when we did not use cross validation the accuracy droped to 59.59%."
   ]
  },
  {
   "cell_type": "code",
   "execution_count": null,
   "metadata": {},
   "outputs": [],
   "source": []
  },
  {
   "cell_type": "markdown",
   "metadata": {},
   "source": [
    "## Question 2"
   ]
  },
  {
   "cell_type": "code",
   "execution_count": 78,
   "metadata": {},
   "outputs": [],
   "source": [
    "import pandas as pd\n",
    "import numpy as np\n",
    "from numpy.linalg import inv\n",
    "import random\n",
    "import matplotlib.pyplot as plt\n",
    "\n",
    "from IPython.display import Image\n",
    "from tqdm import tqdm"
   ]
  },
  {
   "cell_type": "code",
   "execution_count": 79,
   "metadata": {},
   "outputs": [],
   "source": [
    "fun = lambda x: np.sin(np.pi*x)\n",
    "def datapoints():\n",
    "    x = np.random.uniform(-1,1,2)\n",
    "    y = fun(x)\n",
    "    return np.column_stack([x,y])"
   ]
  },
  {
   "cell_type": "code",
   "execution_count": 80,
   "metadata": {},
   "outputs": [],
   "source": [
    "np.random.seed(123)\n",
    "samples = [datapoints() for i in range(10000)]"
   ]
  },
  {
   "cell_type": "markdown",
   "metadata": {},
   "source": [
    "#### Without Regularization"
   ]
  },
  {
   "cell_type": "code",
   "execution_count": 81,
   "metadata": {},
   "outputs": [],
   "source": [
    "def linear_model(sample):\n",
    "    X = np.column_stack([np.repeat(1, 2), sample[:,0]])\n",
    "    y = sample[:,1]\n",
    "    return np.dot(inv(np.dot(X.T, X)), np.dot(X.T, y))"
   ]
  },
  {
   "cell_type": "code",
   "execution_count": 82,
   "metadata": {},
   "outputs": [
    {
     "data": {
      "text/plain": [
       "array([-7.23088131e-04,  7.79622943e-01])"
      ]
     },
     "execution_count": 82,
     "metadata": {},
     "output_type": "execute_result"
    }
   ],
   "source": [
    "without_reg = [linear_model(i) for i in samples]\n",
    "g_x1 = np.mean(without_reg, axis=0)\n",
    "g_x1"
   ]
  },
  {
   "cell_type": "code",
   "execution_count": 274,
   "metadata": {},
   "outputs": [
    {
     "name": "stdout",
     "output_type": "stream",
     "text": [
      "Without Regularization: y=-0.000723+0.78x\n"
     ]
    }
   ],
   "source": [
    "print('Without Regularization: y={}+{}x'.format(round(g_x1[0], 6), round(g_x1[1], 3)))"
   ]
  },
  {
   "cell_type": "markdown",
   "metadata": {},
   "source": [
    "#### With Regularization"
   ]
  },
  {
   "cell_type": "code",
   "execution_count": 83,
   "metadata": {},
   "outputs": [],
   "source": [
    "def linear_fit_wr(sample, lamda=0.1):\n",
    "    X = np.column_stack([np.repeat(1, 2), sample[:,0]])\n",
    "    y = sample[:,1]\n",
    "    return np.dot(inv(np.dot(X.T, X) + lamda*np.identity(2)), np.dot(X.T, y))"
   ]
  },
  {
   "cell_type": "code",
   "execution_count": 84,
   "metadata": {},
   "outputs": [
    {
     "data": {
      "text/plain": [
       "array([0.00590695, 0.63090971])"
      ]
     },
     "execution_count": 84,
     "metadata": {},
     "output_type": "execute_result"
    }
   ],
   "source": [
    "lamda = 0.1\n",
    "with_reg = [linear_fit_wr(i, lamda) for i in samples]\n",
    "g_x2 = np.mean(with_reg, axis=0)\n",
    "g_x2"
   ]
  },
  {
   "cell_type": "code",
   "execution_count": 276,
   "metadata": {},
   "outputs": [
    {
     "name": "stdout",
     "output_type": "stream",
     "text": [
      "With Regularization: y=0.0059+0.6309x\n"
     ]
    }
   ],
   "source": [
    "print('With Regularization: y={}+{}x'.format(round(g_x2[0], 4), round(g_x2[1], 4)))\n"
   ]
  },
  {
   "cell_type": "markdown",
   "metadata": {},
   "source": [
    "## Question 2"
   ]
  },
  {
   "cell_type": "markdown",
   "metadata": {},
   "source": [
    "#### Without Regularization"
   ]
  },
  {
   "cell_type": "code",
   "execution_count": 85,
   "metadata": {},
   "outputs": [],
   "source": [
    "y = np.array([i[:,1] for i in samples]).flatten()\n",
    "get_g = lambda sample, eqa: np.dot(np.column_stack([np.repeat(1,2), sample[:,0]]), eqa)"
   ]
  },
  {
   "cell_type": "code",
   "execution_count": 86,
   "metadata": {},
   "outputs": [],
   "source": [
    "bias = (np.array([get_g(i, g_x1) for i in samples]).flatten() - y)**2\n",
    "bias_mean = np.mean(bias)"
   ]
  },
  {
   "cell_type": "code",
   "execution_count": 87,
   "metadata": {},
   "outputs": [
    {
     "name": "stdout",
     "output_type": "stream",
     "text": [
      "Without regularization bias^2: 0.206\n"
     ]
    }
   ],
   "source": [
    "print('Without regularization bias^2: {}'.format(round(bias_mean, 3)))"
   ]
  },
  {
   "cell_type": "markdown",
   "metadata": {},
   "source": [
    "#### With Regularization"
   ]
  },
  {
   "cell_type": "code",
   "execution_count": 88,
   "metadata": {},
   "outputs": [],
   "source": [
    "bias2 = (np.array([get_g(i, g_x2) for i in samples]).flatten() - y)**2\n",
    "mean_bias2 = np.mean(bias2)"
   ]
  },
  {
   "cell_type": "code",
   "execution_count": 89,
   "metadata": {},
   "outputs": [
    {
     "name": "stdout",
     "output_type": "stream",
     "text": [
      "With regularization bias^2: 0.231\n"
     ]
    }
   ],
   "source": [
    "print('With regularization bias^2: {}'.format(round(mean_bias2, 3)))"
   ]
  },
  {
   "cell_type": "markdown",
   "metadata": {},
   "source": [
    "### Question 3"
   ]
  },
  {
   "cell_type": "code",
   "execution_count": 90,
   "metadata": {},
   "outputs": [],
   "source": [
    "xx = np.array([i[:,0] for i in samples]).flatten()\n",
    "all_X = np.column_stack([np.repeat(1, len(xx)), xx])\n",
    "\n"
   ]
  },
  {
   "cell_type": "markdown",
   "metadata": {},
   "source": [
    "#### Without REegularization"
   ]
  },
  {
   "cell_type": "code",
   "execution_count": 91,
   "metadata": {},
   "outputs": [
    {
     "name": "stderr",
     "output_type": "stream",
     "text": [
      "100%|██████████| 20000/20000 [04:47<00:00, 69.45it/s]\n"
     ]
    }
   ],
   "source": [
    "g_bar_x = np.dot(all_X, g_x1)\n",
    "all_var_wor = [np.mean((np.dot(np.row_stack(without_reg), all_X[i]) - g_bar_x[i])**2) for i in tqdm(range(len(g_bar_x)))]\n",
    "var_wor = np.mean(all_var_wor)"
   ]
  },
  {
   "cell_type": "code",
   "execution_count": 92,
   "metadata": {},
   "outputs": [
    {
     "name": "stdout",
     "output_type": "stream",
     "text": [
      "Without Regularization variance: 1.672\n"
     ]
    }
   ],
   "source": [
    "print('Without Regularization variance: {}'.format(round(var_wor, 3)))"
   ]
  },
  {
   "cell_type": "markdown",
   "metadata": {},
   "source": [
    "#### With Regularization"
   ]
  },
  {
   "cell_type": "code",
   "execution_count": 70,
   "metadata": {},
   "outputs": [
    {
     "name": "stderr",
     "output_type": "stream",
     "text": [
      "100%|██████████| 20000/20000 [05:03<00:00, 65.86it/s]\n"
     ]
    }
   ],
   "source": [
    "all_g_bar_x_wr = np.dot(all_X, g_x2)\n",
    "all_var_wr = [np.mean((np.dot(np.row_stack(with_reg), all_X[i]) - all_g_bar_x_wr[i])**2) for i in tqdm(range(len(all_g_bar_x_wr)))]\n",
    "var_wr = np.mean(all_var_wr)"
   ]
  },
  {
   "cell_type": "code",
   "execution_count": 71,
   "metadata": {},
   "outputs": [
    {
     "name": "stdout",
     "output_type": "stream",
     "text": [
      "With Regularization variance: 0.327\n"
     ]
    }
   ],
   "source": [
    "print('With Regularization variance: {}'.format(round(var_wr, 3)))"
   ]
  },
  {
   "cell_type": "code",
   "execution_count": null,
   "metadata": {},
   "outputs": [],
   "source": []
  },
  {
   "cell_type": "markdown",
   "metadata": {},
   "source": [
    "## Question 4"
   ]
  },
  {
   "cell_type": "code",
   "execution_count": 93,
   "metadata": {},
   "outputs": [],
   "source": [
    "x = np.array([i[:,0] for i in samples]).flatten()\n",
    "y = np.array([i[:,1] for i in samples]).flatten()"
   ]
  },
  {
   "cell_type": "code",
   "execution_count": 94,
   "metadata": {},
   "outputs": [],
   "source": [
    "g_bar_x_wor = np.array([get_g(i, g_x_wor) for i in samples]).flatten()\n",
    "up_lim_wor = g_bar_x_wor + np.sqrt(np.array(all_var_wor))\n",
    "low_lim_wor = g_bar_x_wor - np.sqrt(np.array(all_var_wor))"
   ]
  },
  {
   "cell_type": "code",
   "execution_count": 76,
   "metadata": {},
   "outputs": [],
   "source": [
    "g_bar_x_wr = np.array([get_g(i, g_x_wr) for i in samples]).flatten()\n",
    "up_lim_wr = g_bar_x_wr + np.sqrt(np.array(all_var_wr).flatten())\n",
    "low_lim_wr = g_bar_x_wr - np.sqrt(np.array(all_var_wr).flatten())"
   ]
  },
  {
   "cell_type": "code",
   "execution_count": 77,
   "metadata": {},
   "outputs": [
    {
     "data": {
      "image/png": "[encoded data removed]",
      "text/plain": [
       "<Figure size 1800x1080 with 2 Axes>"
      ]
     },
     "metadata": {
      "needs_background": "light"
     },
     "output_type": "display_data"
    }
   ],
   "source": [
    "plt.figure(figsize=(25,15))\n",
    "plt.subplot(221)\n",
    "plt.plot(np.sort(x), g_bar_x_wor[np.argsort(x)], label=r'$\\bar{g}(x)$')\n",
    "plt.plot(np.sort(x), y[np.argsort(x)], label=r'sin($\\pi x$)')\n",
    "plt.fill_between(np.sort(x), up_lim_wor[np.argsort(x)], low_lim_wor[np.argsort(x)], color='grey', alpha=0.3)\n",
    "plt.title('without regularization')\n",
    "plt.xlabel('x')\n",
    "plt.ylabel('y')\n",
    "plt.ylim(-2.5,2.5)\n",
    "plt.legend()\n",
    "\n",
    "plt.subplot(222)\n",
    "plt.plot(np.sort(x), g_bar_x_wr[np.argsort(x)], label=r'$\\bar{g}(x)$')\n",
    "plt.plot(np.sort(x), y[np.argsort(x)], label=r'sin($\\pi x$)')\n",
    "plt.fill_between(np.sort(x), up_lim_wr[np.argsort(x)], low_lim_wr[np.argsort(x)], color='grey', alpha=0.3)\n",
    "plt.title('with regularization')\n",
    "plt.xlabel('x')\n",
    "plt.ylabel('y')\n",
    "plt.ylim(-2.5,2.5)\n",
    "plt.legend()\n",
    "plt.show()"
   ]
  },
  {
   "cell_type": "markdown",
   "metadata": {},
   "source": [
    "Here, the grey shaded region show g(x)+_var**0.5. Without regularization there is less bias but more variance whereas with regularization we have slight increase in bias and variance decreases significantly. Hence, the total out sample error also decreases. Therefore we should go for model with regularization."
   ]
  },
  {
   "cell_type": "code",
   "execution_count": null,
   "metadata": {},
   "outputs": [],
   "source": []
  }
 ],
 "metadata": {
  "kernelspec": {
   "display_name": "Python 3",
   "language": "python",
   "name": "python3"
  },
  "language_info": {
   "codemirror_mode": {
    "name": "ipython",
    "version": 3
   },
   "file_extension": ".py",
   "mimetype": "text/x-python",
   "name": "python",
   "nbconvert_exporter": "python",
   "pygments_lexer": "ipython3",
   "version": "3.7.3"
  }
 },
 "nbformat": 4,
 "nbformat_minor": 2
}
